{
 "cells": [
  {
   "cell_type": "code",
   "execution_count": 686,
   "id": "6d7c7395",
   "metadata": {},
   "outputs": [],
   "source": [
    "#imports \n",
    "import pandas as pd\n",
    "import numpy as np\n",
    "from sklearn.model_selection import train_test_split\n",
    "from sklearn.linear_model import LinearRegression\n",
    "import matplotlib.pyplot as plt\n",
    "from sklearn import datasets, linear_model\n",
    "\n",
    "#stats-model api import\n",
    "import statsmodels.api as sm\n"
   ]
  },
  {
   "cell_type": "code",
   "execution_count": 687,
   "id": "21af3354",
   "metadata": {},
   "outputs": [],
   "source": [
    "\"\"\"\n",
    "Two methods to read data, one from an .xlsx sheet and one way from a .csv file the first column of data must be the \n",
    "dependent varible, the rest of the columns should be the independent variable(s)\n",
    "\"\"\"\n",
    "\n",
    "#reading an excel sheet containing the data\n",
    "data = pd.read_excel('/Users/aditya/ctc-hackathon-2022/Paraguay .xlsx')\n",
    "\n",
    "#reading a csv file containing data, get rid of first \"#\" and replace second \"#\" with directory path to csv file\n",
    "#data = pd.read_csv('#')"
   ]
  },
  {
   "cell_type": "code",
   "execution_count": 688,
   "id": "69782ae0",
   "metadata": {},
   "outputs": [
    {
     "data": {
      "text/html": [
       "<div>\n",
       "<style scoped>\n",
       "    .dataframe tbody tr th:only-of-type {\n",
       "        vertical-align: middle;\n",
       "    }\n",
       "\n",
       "    .dataframe tbody tr th {\n",
       "        vertical-align: top;\n",
       "    }\n",
       "\n",
       "    .dataframe thead th {\n",
       "        text-align: right;\n",
       "    }\n",
       "</style>\n",
       "<table border=\"1\" class=\"dataframe\">\n",
       "  <thead>\n",
       "    <tr style=\"text-align: right;\">\n",
       "      <th></th>\n",
       "      <th>Gini Coefficient</th>\n",
       "      <th>Clean Water Access (% of population)</th>\n",
       "      <th>Healthcare Spending per Capita ($)</th>\n",
       "      <th>Urbanization of Population (% of population)</th>\n",
       "      <th>Homicide Rate (per 100 000 people)</th>\n",
       "    </tr>\n",
       "  </thead>\n",
       "  <tbody>\n",
       "    <tr>\n",
       "      <th>0</th>\n",
       "      <td>54.6</td>\n",
       "      <td>49.51</td>\n",
       "      <td>100</td>\n",
       "      <td>55.33</td>\n",
       "      <td>18.69</td>\n",
       "    </tr>\n",
       "    <tr>\n",
       "      <th>1</th>\n",
       "      <td>54.6</td>\n",
       "      <td>50.52</td>\n",
       "      <td>88</td>\n",
       "      <td>55.97</td>\n",
       "      <td>24.21</td>\n",
       "    </tr>\n",
       "    <tr>\n",
       "      <th>2</th>\n",
       "      <td>57.3</td>\n",
       "      <td>51.52</td>\n",
       "      <td>62</td>\n",
       "      <td>56.60</td>\n",
       "      <td>24.80</td>\n",
       "    </tr>\n",
       "    <tr>\n",
       "      <th>3</th>\n",
       "      <td>54.9</td>\n",
       "      <td>52.41</td>\n",
       "      <td>67</td>\n",
       "      <td>56.98</td>\n",
       "      <td>22.81</td>\n",
       "    </tr>\n",
       "    <tr>\n",
       "      <th>4</th>\n",
       "      <td>52.3</td>\n",
       "      <td>53.27</td>\n",
       "      <td>83</td>\n",
       "      <td>57.31</td>\n",
       "      <td>21.10</td>\n",
       "    </tr>\n",
       "  </tbody>\n",
       "</table>\n",
       "</div>"
      ],
      "text/plain": [
       "   Gini Coefficient  Clean Water Access (% of population)  \\\n",
       "0              54.6                                 49.51   \n",
       "1              54.6                                 50.52   \n",
       "2              57.3                                 51.52   \n",
       "3              54.9                                 52.41   \n",
       "4              52.3                                 53.27   \n",
       "\n",
       "   Healthcare Spending per Capita ($)  \\\n",
       "0                                 100   \n",
       "1                                  88   \n",
       "2                                  62   \n",
       "3                                  67   \n",
       "4                                  83   \n",
       "\n",
       "   Urbanization of Population (% of population)  \\\n",
       "0                                         55.33   \n",
       "1                                         55.97   \n",
       "2                                         56.60   \n",
       "3                                         56.98   \n",
       "4                                         57.31   \n",
       "\n",
       "   Homicide Rate (per 100 000 people)  \n",
       "0                               18.69  \n",
       "1                               24.21  \n",
       "2                               24.80  \n",
       "3                               22.81  \n",
       "4                               21.10  "
      ]
     },
     "execution_count": 688,
     "metadata": {},
     "output_type": "execute_result"
    }
   ],
   "source": [
    "#displaying the first 5 rows, allow user to see if data was correctly displayed\n",
    "data.head()\n"
   ]
  },
  {
   "cell_type": "code",
   "execution_count": 689,
   "id": "dbab6fe2",
   "metadata": {},
   "outputs": [],
   "source": [
    "#row0 is a list of the headers, e.g ['Suicide rate','Electricity Access', etc..]\n",
    "row0 = list(data)\n",
    "\n",
    "#x is the independent variable data other than than first column, which is the dependent variable. \n",
    "x=data.drop([row0[0]],axis=1).values\n",
    "\n",
    "#y is equal to the dependent data, column 0 \n",
    "y=data[row0[0]].values"
   ]
  },
  {
   "cell_type": "code",
   "execution_count": 690,
   "id": "9ce542f6",
   "metadata": {},
   "outputs": [],
   "source": [
    "\"\"\"\n",
    "trains the model using datasets, test_size set to a high value \n",
    "since data is limited; model trains using more input data\n",
    "\"\"\"\n",
    "\n",
    "\n",
    "#test_size should be adjusted relative to the sample size, lower sample\n",
    "#size requires a higher test_size input (0 - 1.0) \n",
    "\n",
    "\n",
    "x_train, x_test, y_train, y_test = train_test_split(x, y, test_size=0.70, random_state=0)"
   ]
  },
  {
   "cell_type": "code",
   "execution_count": 691,
   "id": "518e4d11",
   "metadata": {},
   "outputs": [
    {
     "data": {
      "text/plain": [
       "LinearRegression()"
      ]
     },
     "execution_count": 691,
     "metadata": {},
     "output_type": "execute_result"
    }
   ],
   "source": [
    "#create linear regression object\n",
    "\n",
    "ml = LinearRegression()\n",
    "\n",
    "#train the model using the training sets\n",
    "ml.fit(x_train, y_train)"
   ]
  },
  {
   "cell_type": "code",
   "execution_count": 692,
   "id": "2ce374b0",
   "metadata": {},
   "outputs": [],
   "source": [
    "#make predictions using the testing set\n",
    "\n",
    "y_pred = ml.predict(x_test)\n"
   ]
  },
  {
   "cell_type": "code",
   "execution_count": 693,
   "id": "ec59bb04",
   "metadata": {},
   "outputs": [
    {
     "data": {
      "text/plain": [
       "Text(0.5, 1.0, 'Actual vs. Predicted')"
      ]
     },
     "execution_count": 693,
     "metadata": {},
     "output_type": "execute_result"
    },
    {
     "data": {
      "image/png": "[encoded data removed]",
      "text/plain": [
       "<Figure size 1500x1000 with 1 Axes>"
      ]
     },
     "metadata": {},
     "output_type": "display_data"
    }
   ],
   "source": [
    "#plotting the data\n",
    "#TOMORROW DISCUSS WHETHER TO DELETE THIS SECTION OR NOT \n",
    "\n",
    "plt.figure(figsize=(15,10))\n",
    "plt.scatter(y_test,y_pred)\n",
    "plt.xlabel('Actual')\n",
    "plt.ylabel('Predicted')\n",
    "plt.title('Actual vs. Predicted')"
   ]
  },
  {
   "cell_type": "code",
   "execution_count": 694,
   "id": "ba6ab1cc",
   "metadata": {},
   "outputs": [
    {
     "data": {
      "text/html": [
       "<div>\n",
       "<style scoped>\n",
       "    .dataframe tbody tr th:only-of-type {\n",
       "        vertical-align: middle;\n",
       "    }\n",
       "\n",
       "    .dataframe tbody tr th {\n",
       "        vertical-align: top;\n",
       "    }\n",
       "\n",
       "    .dataframe thead th {\n",
       "        text-align: right;\n",
       "    }\n",
       "</style>\n",
       "<table border=\"1\" class=\"dataframe\">\n",
       "  <thead>\n",
       "    <tr style=\"text-align: right;\">\n",
       "      <th></th>\n",
       "      <th>Actual Value</th>\n",
       "      <th>Predicted Value</th>\n",
       "      <th>Difference</th>\n",
       "    </tr>\n",
       "  </thead>\n",
       "  <tbody>\n",
       "    <tr>\n",
       "      <th>0</th>\n",
       "      <td>46.0</td>\n",
       "      <td>52.466707</td>\n",
       "      <td>-6.466707</td>\n",
       "    </tr>\n",
       "    <tr>\n",
       "      <th>1</th>\n",
       "      <td>54.6</td>\n",
       "      <td>40.090784</td>\n",
       "      <td>14.509216</td>\n",
       "    </tr>\n",
       "    <tr>\n",
       "      <th>2</th>\n",
       "      <td>45.7</td>\n",
       "      <td>52.539115</td>\n",
       "      <td>-6.839115</td>\n",
       "    </tr>\n",
       "    <tr>\n",
       "      <th>3</th>\n",
       "      <td>50.7</td>\n",
       "      <td>61.720606</td>\n",
       "      <td>-11.020606</td>\n",
       "    </tr>\n",
       "    <tr>\n",
       "      <th>4</th>\n",
       "      <td>51.0</td>\n",
       "      <td>62.914306</td>\n",
       "      <td>-11.914306</td>\n",
       "    </tr>\n",
       "    <tr>\n",
       "      <th>5</th>\n",
       "      <td>48.5</td>\n",
       "      <td>51.249907</td>\n",
       "      <td>-2.749907</td>\n",
       "    </tr>\n",
       "    <tr>\n",
       "      <th>6</th>\n",
       "      <td>53.0</td>\n",
       "      <td>85.217396</td>\n",
       "      <td>-32.217396</td>\n",
       "    </tr>\n",
       "    <tr>\n",
       "      <th>7</th>\n",
       "      <td>47.9</td>\n",
       "      <td>46.545109</td>\n",
       "      <td>1.354891</td>\n",
       "    </tr>\n",
       "    <tr>\n",
       "      <th>8</th>\n",
       "      <td>52.3</td>\n",
       "      <td>58.553671</td>\n",
       "      <td>-6.253671</td>\n",
       "    </tr>\n",
       "    <tr>\n",
       "      <th>9</th>\n",
       "      <td>57.3</td>\n",
       "      <td>47.268621</td>\n",
       "      <td>10.031379</td>\n",
       "    </tr>\n",
       "    <tr>\n",
       "      <th>10</th>\n",
       "      <td>51.4</td>\n",
       "      <td>80.034223</td>\n",
       "      <td>-28.634223</td>\n",
       "    </tr>\n",
       "    <tr>\n",
       "      <th>11</th>\n",
       "      <td>50.7</td>\n",
       "      <td>38.544737</td>\n",
       "      <td>12.155263</td>\n",
       "    </tr>\n",
       "    <tr>\n",
       "      <th>12</th>\n",
       "      <td>49.1</td>\n",
       "      <td>64.632655</td>\n",
       "      <td>-15.532655</td>\n",
       "    </tr>\n",
       "  </tbody>\n",
       "</table>\n",
       "</div>"
      ],
      "text/plain": [
       "    Actual Value  Predicted Value  Difference\n",
       "0           46.0        52.466707   -6.466707\n",
       "1           54.6        40.090784   14.509216\n",
       "2           45.7        52.539115   -6.839115\n",
       "3           50.7        61.720606  -11.020606\n",
       "4           51.0        62.914306  -11.914306\n",
       "5           48.5        51.249907   -2.749907\n",
       "6           53.0        85.217396  -32.217396\n",
       "7           47.9        46.545109    1.354891\n",
       "8           52.3        58.553671   -6.253671\n",
       "9           57.3        47.268621   10.031379\n",
       "10          51.4        80.034223  -28.634223\n",
       "11          50.7        38.544737   12.155263\n",
       "12          49.1        64.632655  -15.532655"
      ]
     },
     "execution_count": 694,
     "metadata": {},
     "output_type": "execute_result"
    }
   ],
   "source": [
    "\"\"\"\n",
    "Compares the predicted value from the machine learning model to the actual values,\n",
    "ensuring that the sum of the residuals is minimal and outliers are made known. \n",
    "\"\"\"\n",
    "\n",
    "pred_y_df=pd.DataFrame({'Actual Value':y_test, 'Predicted Value':y_pred, 'Difference':y_test-y_pred})\n",
    "pred_y_df[0:-1]"
   ]
  },
  {
   "cell_type": "code",
   "execution_count": 695,
   "id": "63773ee3",
   "metadata": {},
   "outputs": [
    {
     "name": "stdout",
     "output_type": "stream",
     "text": [
      "                            OLS Regression Results                            \n",
      "==============================================================================\n",
      "Dep. Variable:                      y   R-squared:                       0.811\n",
      "Model:                            OLS   Adj. R-squared:                  0.761\n",
      "Method:                 Least Squares   F-statistic:                     16.10\n",
      "Date:                Sun, 20 Nov 2022   Prob (F-statistic):           2.64e-05\n",
      "Time:                        00:44:46   Log-Likelihood:                -34.590\n",
      "No. Observations:                  20   AIC:                             79.18\n",
      "Df Residuals:                      15   BIC:                             84.16\n",
      "Df Model:                           4                                         \n",
      "Covariance Type:            nonrobust                                         \n",
      "==============================================================================\n",
      "                 coef    std err          t      P>|t|      [0.025      0.975]\n",
      "------------------------------------------------------------------------------\n",
      "const         78.5429    105.278      0.746      0.467    -145.852     302.937\n",
      "x1            -0.5693      1.509     -0.377      0.711      -3.785       2.647\n",
      "x2             0.0025      0.011      0.241      0.813      -0.020       0.025\n",
      "x3             0.0490      3.200      0.015      0.988      -6.771       6.869\n",
      "x4             0.1173      0.160      0.734      0.474      -0.223       0.458\n",
      "==============================================================================\n",
      "Omnibus:                        4.069   Durbin-Watson:                   2.139\n",
      "Prob(Omnibus):                  0.131   Jarque-Bera (JB):                1.939\n",
      "Skew:                           0.459   Prob(JB):                        0.379\n",
      "Kurtosis:                       1.782   Cond. No.                     8.28e+04\n",
      "==============================================================================\n",
      "\n",
      "Notes:\n",
      "[1] Standard Errors assume that the covariance matrix of the errors is correctly specified.\n",
      "[2] The condition number is large, 8.28e+04. This might indicate that there are\n",
      "strong multicollinearity or other numerical problems.\n"
     ]
    }
   ],
   "source": [
    "\"\"\"\n",
    "using the statsmodels api, we can get important summary statistics such as \n",
    "the coefficients for our equations and our p-values from the analysis\n",
    "\"\"\"\n",
    "\n",
    "X2 = sm.add_constant(x)\n",
    "est = sm.OLS(y, X2)\n",
    "est2 = est.fit()\n",
    "print(est2.summary())"
   ]
  },
  {
   "cell_type": "code",
   "execution_count": 696,
   "id": "ce07f09d",
   "metadata": {},
   "outputs": [
    {
     "data": {
      "text/plain": [
       "[]"
      ]
     },
     "execution_count": 696,
     "metadata": {},
     "output_type": "execute_result"
    }
   ],
   "source": [
    "\"\"\"\n",
    "logic developed to determine p values that are < 0.05, which indicate a statiscally significant \n",
    "relationship between our dependent variable and any of our independent variables\n",
    "\"\"\"\n",
    "\n",
    "significant_p = []\n",
    "for i in range(1, len(row0)):\n",
    "    if est2.pvalues[i] < 0.05:\n",
    "        significant_p.append(row0[i])\n",
    "        print('sig p')\n",
    "        \n",
    "\n",
    "#if len(significant_p)==0:\n",
    "#    print('No significant relationships found.')\n",
    "            \n",
    "\n",
    "significant_p"
   ]
  },
  {
   "cell_type": "code",
   "execution_count": null,
   "id": "7f2184e6",
   "metadata": {},
   "outputs": [],
   "source": []
  }
 ],
 "metadata": {
  "kernelspec": {
   "display_name": "Python 3 (ipykernel)",
   "language": "python",
   "name": "python3"
  },
  "language_info": {
   "codemirror_mode": {
    "name": "ipython",
    "version": 3
   },
   "file_extension": ".py",
   "mimetype": "text/x-python",
   "name": "python",
   "nbconvert_exporter": "python",
   "pygments_lexer": "ipython3",
   "version": "3.9.13"
  },
  "vscode": {
   "interpreter": {
    "hash": "31f2aee4e71d21fbe5cf8b01ff0e069b9275f58929596ceb00d14d90e3e16cd6"
   }
  }
 },
 "nbformat": 4,
 "nbformat_minor": 5
}
