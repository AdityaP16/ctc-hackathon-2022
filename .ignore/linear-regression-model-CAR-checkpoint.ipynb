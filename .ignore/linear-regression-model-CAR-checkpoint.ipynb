{
 "cells": [
  {
   "cell_type": "code",
   "execution_count": 563,
   "id": "6d7c7395",
   "metadata": {},
   "outputs": [],
   "source": [
    "#imports \n",
    "import pandas as pd\n",
    "import numpy as np\n",
    "from sklearn.model_selection import train_test_split\n",
    "from sklearn.linear_model import LinearRegression\n",
    "import matplotlib.pyplot as plt\n",
    "from sklearn import datasets, linear_model\n",
    "\n",
    "#stats-model api import\n",
    "import statsmodels.api as sm\n"
   ]
  },
  {
   "cell_type": "code",
   "execution_count": 545,
   "id": "21af3354",
   "metadata": {},
   "outputs": [],
   "source": [
    "\"\"\"\n",
    "Two methods to read data, one from an .xlsx sheet and one way from a .csv file the first column of data must be the \n",
    "dependent varible, the rest of the columns should be the independent variable(s)\n",
    "\"\"\"\n",
    "\n",
    "#reading an excel sheet containing the data\n",
    "data = pd.read_excel('/Users/aditya/ctc-hackathon-2022/Paraguay .xlsx')\n",
    "\n",
    "#reading a csv file containing data, get rid of first \"#\" and replace second \"#\" with directory path to csv file\n",
    "#data = pd.read_csv('#')"
   ]
  },
  {
   "cell_type": "code",
   "execution_count": 546,
   "id": "69782ae0",
   "metadata": {},
   "outputs": [
    {
     "data": {
      "text/html": [
       "<div>\n",
       "<style scoped>\n",
       "    .dataframe tbody tr th:only-of-type {\n",
       "        vertical-align: middle;\n",
       "    }\n",
       "\n",
       "    .dataframe tbody tr th {\n",
       "        vertical-align: top;\n",
       "    }\n",
       "\n",
       "    .dataframe thead th {\n",
       "        text-align: right;\n",
       "    }\n",
       "</style>\n",
       "<table border=\"1\" class=\"dataframe\">\n",
       "  <thead>\n",
       "    <tr style=\"text-align: right;\">\n",
       "      <th></th>\n",
       "      <th>Gini Coefficient</th>\n",
       "      <th>Clean Water Access (% of population)</th>\n",
       "      <th>Healthcare Spending per Capita ($)</th>\n",
       "      <th>Urbanization of Population (% of population)</th>\n",
       "      <th>Homicide Rate (per 100 000 people)</th>\n",
       "    </tr>\n",
       "  </thead>\n",
       "  <tbody>\n",
       "    <tr>\n",
       "      <th>0</th>\n",
       "      <td>0.546</td>\n",
       "      <td>49.51</td>\n",
       "      <td>100</td>\n",
       "      <td>55.33</td>\n",
       "      <td>18.69</td>\n",
       "    </tr>\n",
       "    <tr>\n",
       "      <th>1</th>\n",
       "      <td>0.546</td>\n",
       "      <td>50.52</td>\n",
       "      <td>88</td>\n",
       "      <td>55.97</td>\n",
       "      <td>24.21</td>\n",
       "    </tr>\n",
       "    <tr>\n",
       "      <th>2</th>\n",
       "      <td>0.573</td>\n",
       "      <td>51.52</td>\n",
       "      <td>62</td>\n",
       "      <td>56.60</td>\n",
       "      <td>24.80</td>\n",
       "    </tr>\n",
       "    <tr>\n",
       "      <th>3</th>\n",
       "      <td>0.549</td>\n",
       "      <td>52.41</td>\n",
       "      <td>67</td>\n",
       "      <td>56.98</td>\n",
       "      <td>22.81</td>\n",
       "    </tr>\n",
       "    <tr>\n",
       "      <th>4</th>\n",
       "      <td>0.523</td>\n",
       "      <td>53.27</td>\n",
       "      <td>83</td>\n",
       "      <td>57.31</td>\n",
       "      <td>21.10</td>\n",
       "    </tr>\n",
       "  </tbody>\n",
       "</table>\n",
       "</div>"
      ],
      "text/plain": [
       "   Gini Coefficient  Clean Water Access (% of population)  \\\n",
       "0             0.546                                 49.51   \n",
       "1             0.546                                 50.52   \n",
       "2             0.573                                 51.52   \n",
       "3             0.549                                 52.41   \n",
       "4             0.523                                 53.27   \n",
       "\n",
       "   Healthcare Spending per Capita ($)  \\\n",
       "0                                 100   \n",
       "1                                  88   \n",
       "2                                  62   \n",
       "3                                  67   \n",
       "4                                  83   \n",
       "\n",
       "   Urbanization of Population (% of population)  \\\n",
       "0                                         55.33   \n",
       "1                                         55.97   \n",
       "2                                         56.60   \n",
       "3                                         56.98   \n",
       "4                                         57.31   \n",
       "\n",
       "   Homicide Rate (per 100 000 people)  \n",
       "0                               18.69  \n",
       "1                               24.21  \n",
       "2                               24.80  \n",
       "3                               22.81  \n",
       "4                               21.10  "
      ]
     },
     "execution_count": 546,
     "metadata": {},
     "output_type": "execute_result"
    }
   ],
   "source": [
    "#displaying the first 5 rows, allow user to see if data was correctly displayed\n",
    "data.head()\n"
   ]
  },
  {
   "cell_type": "code",
   "execution_count": 547,
   "id": "dbab6fe2",
   "metadata": {},
   "outputs": [],
   "source": [
    "#row0 is a list of the headers, e.g ['Suicide rate','Electricity Access', etc..]\n",
    "row0 = list(data)\n",
    "\n",
    "#x is the independent variable data other than than first column, which is the dependent variable. \n",
    "x=data.drop([row0[0]],axis=1).values\n",
    "\n",
    "#y is equal to the dependent data, column 0 \n",
    "y=data[row0[0]].values"
   ]
  },
  {
   "cell_type": "code",
   "execution_count": 556,
   "id": "9ce542f6",
   "metadata": {},
   "outputs": [],
   "source": [
    "\"\"\"\n",
    "trains the model using datasets, test_size set to a high value \n",
    "since data is limited; model trains using more input data\n",
    "\"\"\"\n",
    "\n",
    "\n",
    "#test_size should be adjusted relative to the sample size, lower sample\n",
    "#size requires a higher test_size input (0 - 1.0) \n",
    "\n",
    "\n",
    "x_train, x_test, y_train, y_test = train_test_split(x, y, test_size=0.70, random_state=0)"
   ]
  },
  {
   "cell_type": "code",
   "execution_count": 557,
   "id": "518e4d11",
   "metadata": {},
   "outputs": [
    {
     "data": {
      "text/plain": [
       "LinearRegression()"
      ]
     },
     "execution_count": 557,
     "metadata": {},
     "output_type": "execute_result"
    }
   ],
   "source": [
    "#create linear regression object\n",
    "\n",
    "ml = LinearRegression()\n",
    "\n",
    "#train the model using the training sets\n",
    "ml.fit(x_train, y_train)"
   ]
  },
  {
   "cell_type": "code",
   "execution_count": 558,
   "id": "2ce374b0",
   "metadata": {},
   "outputs": [],
   "source": [
    "#make predictions using the testing set\n",
    "\n",
    "y_pred = ml.predict(x_test)\n"
   ]
  },
  {
   "cell_type": "code",
   "execution_count": 559,
   "id": "ec59bb04",
   "metadata": {},
   "outputs": [
    {
     "data": {
      "text/plain": [
       "Text(0.5, 1.0, 'Actual vs. Predicted')"
      ]
     },
     "execution_count": 559,
     "metadata": {},
     "output_type": "execute_result"
    },
    {
     "data": {
      "image/png": "[encoded data removed]",
      "text/plain": [
       "<Figure size 1500x1000 with 1 Axes>"
      ]
     },
     "metadata": {},
     "output_type": "display_data"
    }
   ],
   "source": [
    "#plotting the data\n",
    "#TOMORROW DISCUSS WHETHER TO DELETE THIS SECTION OR NOT \n",
    "\n",
    "plt.figure(figsize=(15,10))\n",
    "plt.scatter(y_test,y_pred)\n",
    "plt.xlabel('Actual')\n",
    "plt.ylabel('Predicted')\n",
    "plt.title('Actual vs. Predicted')"
   ]
  },
  {
   "cell_type": "code",
   "execution_count": 560,
   "id": "ba6ab1cc",
   "metadata": {},
   "outputs": [
    {
     "data": {
      "text/html": [
       "<div>\n",
       "<style scoped>\n",
       "    .dataframe tbody tr th:only-of-type {\n",
       "        vertical-align: middle;\n",
       "    }\n",
       "\n",
       "    .dataframe tbody tr th {\n",
       "        vertical-align: top;\n",
       "    }\n",
       "\n",
       "    .dataframe thead th {\n",
       "        text-align: right;\n",
       "    }\n",
       "</style>\n",
       "<table border=\"1\" class=\"dataframe\">\n",
       "  <thead>\n",
       "    <tr style=\"text-align: right;\">\n",
       "      <th></th>\n",
       "      <th>Actual Value</th>\n",
       "      <th>Predicted Value</th>\n",
       "      <th>Difference</th>\n",
       "    </tr>\n",
       "  </thead>\n",
       "  <tbody>\n",
       "    <tr>\n",
       "      <th>0</th>\n",
       "      <td>0.460</td>\n",
       "      <td>0.524667</td>\n",
       "      <td>-0.064667</td>\n",
       "    </tr>\n",
       "    <tr>\n",
       "      <th>1</th>\n",
       "      <td>0.546</td>\n",
       "      <td>0.400908</td>\n",
       "      <td>0.145092</td>\n",
       "    </tr>\n",
       "    <tr>\n",
       "      <th>2</th>\n",
       "      <td>0.457</td>\n",
       "      <td>0.525391</td>\n",
       "      <td>-0.068391</td>\n",
       "    </tr>\n",
       "    <tr>\n",
       "      <th>3</th>\n",
       "      <td>0.507</td>\n",
       "      <td>0.617206</td>\n",
       "      <td>-0.110206</td>\n",
       "    </tr>\n",
       "    <tr>\n",
       "      <th>4</th>\n",
       "      <td>0.510</td>\n",
       "      <td>0.629143</td>\n",
       "      <td>-0.119143</td>\n",
       "    </tr>\n",
       "    <tr>\n",
       "      <th>5</th>\n",
       "      <td>0.485</td>\n",
       "      <td>0.512499</td>\n",
       "      <td>-0.027499</td>\n",
       "    </tr>\n",
       "    <tr>\n",
       "      <th>6</th>\n",
       "      <td>0.530</td>\n",
       "      <td>0.852174</td>\n",
       "      <td>-0.322174</td>\n",
       "    </tr>\n",
       "    <tr>\n",
       "      <th>7</th>\n",
       "      <td>0.479</td>\n",
       "      <td>0.465451</td>\n",
       "      <td>0.013549</td>\n",
       "    </tr>\n",
       "    <tr>\n",
       "      <th>8</th>\n",
       "      <td>0.523</td>\n",
       "      <td>0.585537</td>\n",
       "      <td>-0.062537</td>\n",
       "    </tr>\n",
       "    <tr>\n",
       "      <th>9</th>\n",
       "      <td>0.573</td>\n",
       "      <td>0.472686</td>\n",
       "      <td>0.100314</td>\n",
       "    </tr>\n",
       "    <tr>\n",
       "      <th>10</th>\n",
       "      <td>0.514</td>\n",
       "      <td>0.800342</td>\n",
       "      <td>-0.286342</td>\n",
       "    </tr>\n",
       "    <tr>\n",
       "      <th>11</th>\n",
       "      <td>0.507</td>\n",
       "      <td>0.385447</td>\n",
       "      <td>0.121553</td>\n",
       "    </tr>\n",
       "    <tr>\n",
       "      <th>12</th>\n",
       "      <td>0.491</td>\n",
       "      <td>0.646327</td>\n",
       "      <td>-0.155327</td>\n",
       "    </tr>\n",
       "  </tbody>\n",
       "</table>\n",
       "</div>"
      ],
      "text/plain": [
       "    Actual Value  Predicted Value  Difference\n",
       "0          0.460         0.524667   -0.064667\n",
       "1          0.546         0.400908    0.145092\n",
       "2          0.457         0.525391   -0.068391\n",
       "3          0.507         0.617206   -0.110206\n",
       "4          0.510         0.629143   -0.119143\n",
       "5          0.485         0.512499   -0.027499\n",
       "6          0.530         0.852174   -0.322174\n",
       "7          0.479         0.465451    0.013549\n",
       "8          0.523         0.585537   -0.062537\n",
       "9          0.573         0.472686    0.100314\n",
       "10         0.514         0.800342   -0.286342\n",
       "11         0.507         0.385447    0.121553\n",
       "12         0.491         0.646327   -0.155327"
      ]
     },
     "execution_count": 560,
     "metadata": {},
     "output_type": "execute_result"
    }
   ],
   "source": [
    "\"\"\"\n",
    "Compares the predicted value from the machine learning model to the actual values,\n",
    "ensuring that the sum of the residuals is minimal and outliers are made known. \n",
    "\"\"\"\n",
    "\n",
    "pred_y_df=pd.DataFrame({'Actual Value':y_test, 'Predicted Value':y_pred, 'Difference':y_test-y_pred})\n",
    "pred_y_df[0:-1]"
   ]
  },
  {
   "cell_type": "code",
   "execution_count": 561,
   "id": "63773ee3",
   "metadata": {},
   "outputs": [
    {
     "name": "stdout",
     "output_type": "stream",
     "text": [
      "                            OLS Regression Results                            \n",
      "==============================================================================\n",
      "Dep. Variable:                      y   R-squared:                       0.811\n",
      "Model:                            OLS   Adj. R-squared:                  0.761\n",
      "Method:                 Least Squares   F-statistic:                     16.10\n",
      "Date:                Sat, 19 Nov 2022   Prob (F-statistic):           2.64e-05\n",
      "Time:                        23:56:04   Log-Likelihood:                 57.513\n",
      "No. Observations:                  20   AIC:                            -105.0\n",
      "Df Residuals:                      15   BIC:                            -100.0\n",
      "Df Model:                           4                                         \n",
      "Covariance Type:            nonrobust                                         \n",
      "==============================================================================\n",
      "                 coef    std err          t      P>|t|      [0.025      0.975]\n",
      "------------------------------------------------------------------------------\n",
      "const          0.7854      1.053      0.746      0.467      -1.459       3.029\n",
      "x1            -0.0057      0.015     -0.377      0.711      -0.038       0.026\n",
      "x2          2.536e-05      0.000      0.241      0.813      -0.000       0.000\n",
      "x3             0.0005      0.032      0.015      0.988      -0.068       0.069\n",
      "x4             0.0012      0.002      0.734      0.474      -0.002       0.005\n",
      "==============================================================================\n",
      "Omnibus:                        4.069   Durbin-Watson:                   2.139\n",
      "Prob(Omnibus):                  0.131   Jarque-Bera (JB):                1.939\n",
      "Skew:                           0.459   Prob(JB):                        0.379\n",
      "Kurtosis:                       1.782   Cond. No.                     8.28e+04\n",
      "==============================================================================\n",
      "\n",
      "Notes:\n",
      "[1] Standard Errors assume that the covariance matrix of the errors is correctly specified.\n",
      "[2] The condition number is large, 8.28e+04. This might indicate that there are\n",
      "strong multicollinearity or other numerical problems.\n"
     ]
    }
   ],
   "source": [
    "\"\"\"\n",
    "using the statsmodels api, we can get important summary statistics such as \n",
    "the coefficients for our equations and our p-values from the analysis\n",
    "\"\"\"\n",
    "\n",
    "X2 = sm.add_constant(x)\n",
    "est = sm.OLS(y, X2)\n",
    "est2 = est.fit()\n",
    "print(est2.summary())"
   ]
  },
  {
   "cell_type": "code",
   "execution_count": 562,
   "id": "ce07f09d",
   "metadata": {},
   "outputs": [
    {
     "data": {
      "text/plain": [
       "[]"
      ]
     },
     "execution_count": 562,
     "metadata": {},
     "output_type": "execute_result"
    }
   ],
   "source": [
    "\"\"\"\n",
    "logic developed to determine p values that are < 0.05, which indicate a statiscally significant \n",
    "relationship between our dependent variable and any of our independent variables\n",
    "\"\"\"\n",
    "\n",
    "significant_p = []\n",
    "for i in range(1, len(row0)):\n",
    "    if est2.pvalues[i] < 0.05:\n",
    "         significant_p.append(row0[i])\n",
    "            \n",
    "significant_p"
   ]
  }
 ],
 "metadata": {
  "kernelspec": {
   "display_name": "Python 3 (ipykernel)",
   "language": "python",
   "name": "python3"
  },
  "language_info": {
   "codemirror_mode": {
    "name": "ipython",
    "version": 3
   },
   "file_extension": ".py",
   "mimetype": "text/x-python",
   "name": "python",
   "nbconvert_exporter": "python",
   "pygments_lexer": "ipython3",
   "version": "3.8.9 (default, Jul 19 2021, 09:37:30) \n[Clang 13.0.0 (clang-1300.0.27.3)]"
  },
  "vscode": {
   "interpreter": {
    "hash": "31f2aee4e71d21fbe5cf8b01ff0e069b9275f58929596ceb00d14d90e3e16cd6"
   }
  }
 },
 "nbformat": 4,
 "nbformat_minor": 5
}
