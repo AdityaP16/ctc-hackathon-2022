{
 "cells": [
  {
   "cell_type": "code",
   "execution_count": 9,
   "id": "6d7c7395",
   "metadata": {},
   "outputs": [],
   "source": [
    "#imports \n",
    "import pandas as pd\n",
    "import numpy as np\n",
    "from sklearn.model_selection import train_test_split\n",
    "from sklearn.linear_model import LinearRegression\n",
    "import matplotlib.pyplot as plt\n",
    "from sklearn import datasets, linear_model\n",
    "#stats-model api import\n",
    "import statsmodels.api as sm\n"
   ]
  },
  {
   "cell_type": "code",
   "execution_count": 10,
   "id": "21af3354",
   "metadata": {},
   "outputs": [],
   "source": [
    "\"\"\"\n",
    "Two methods to read data, one from an .xlsx sheet and one way from a .csv file the first column of data must be the \n",
    "dependent varible, the rest of the columns should be the independent variable(s)\n",
    "\"\"\"\n",
    "\n",
    "#reading an excel sheet containing the data\n",
    "data = pd.read_excel(r'C:\\Users\\karad\\Desktop\\htc\\ctc-hackathon-2022\\CAR_Data.xlsx')\n",
    "\n",
    "#reading a csv file containing data, get rid of first \"#\" and replace second \"#\" with directory path to csv file\n",
    "#data = pd.read_csv('#')"
   ]
  },
  {
   "cell_type": "code",
   "execution_count": 11,
   "id": "69782ae0",
   "metadata": {},
   "outputs": [
    {
     "data": {
      "text/html": [
       "<div>\n",
       "<style scoped>\n",
       "    .dataframe tbody tr th:only-of-type {\n",
       "        vertical-align: middle;\n",
       "    }\n",
       "\n",
       "    .dataframe tbody tr th {\n",
       "        vertical-align: top;\n",
       "    }\n",
       "\n",
       "    .dataframe thead th {\n",
       "        text-align: right;\n",
       "    }\n",
       "</style>\n",
       "<table border=\"1\" class=\"dataframe\">\n",
       "  <thead>\n",
       "    <tr style=\"text-align: right;\">\n",
       "      <th></th>\n",
       "      <th>Suicide rate (per 100 000)</th>\n",
       "      <th>Electricity Access (% of population)</th>\n",
       "      <th>Healthcare Spending Per Capita ($)</th>\n",
       "      <th>Hunger Statistics (% of population)</th>\n",
       "    </tr>\n",
       "  </thead>\n",
       "  <tbody>\n",
       "    <tr>\n",
       "      <th>0</th>\n",
       "      <td>17.7</td>\n",
       "      <td>5.74</td>\n",
       "      <td>10</td>\n",
       "      <td>39.2</td>\n",
       "    </tr>\n",
       "    <tr>\n",
       "      <th>1</th>\n",
       "      <td>17.4</td>\n",
       "      <td>6.18</td>\n",
       "      <td>11</td>\n",
       "      <td>40.1</td>\n",
       "    </tr>\n",
       "    <tr>\n",
       "      <th>2</th>\n",
       "      <td>16.4</td>\n",
       "      <td>6.61</td>\n",
       "      <td>13</td>\n",
       "      <td>40.6</td>\n",
       "    </tr>\n",
       "    <tr>\n",
       "      <th>3</th>\n",
       "      <td>15.7</td>\n",
       "      <td>7.05</td>\n",
       "      <td>14</td>\n",
       "      <td>40.5</td>\n",
       "    </tr>\n",
       "    <tr>\n",
       "      <th>4</th>\n",
       "      <td>15.1</td>\n",
       "      <td>7.48</td>\n",
       "      <td>15</td>\n",
       "      <td>39.6</td>\n",
       "    </tr>\n",
       "  </tbody>\n",
       "</table>\n",
       "</div>"
      ],
      "text/plain": [
       "   Suicide rate (per 100 000)  Electricity Access (% of population)  \\\n",
       "0                        17.7                                  5.74   \n",
       "1                        17.4                                  6.18   \n",
       "2                        16.4                                  6.61   \n",
       "3                        15.7                                  7.05   \n",
       "4                        15.1                                  7.48   \n",
       "\n",
       "   Healthcare Spending Per Capita ($)  Hunger Statistics (% of population)  \n",
       "0                                  10                                 39.2  \n",
       "1                                  11                                 40.1  \n",
       "2                                  13                                 40.6  \n",
       "3                                  14                                 40.5  \n",
       "4                                  15                                 39.6  "
      ]
     },
     "execution_count": 11,
     "metadata": {},
     "output_type": "execute_result"
    }
   ],
   "source": [
    "#displaying the first 5 rows, allow user to see if data was correctly displayed\n",
    "data.head()\n"
   ]
  },
  {
   "cell_type": "code",
   "execution_count": 12,
   "id": "dbab6fe2",
   "metadata": {},
   "outputs": [],
   "source": [
    "#row0 is a list of the headers, e.g ['Suicide rate','Electricity Access', etc..]\n",
    "row0 = list(data)\n",
    "\n",
    "#x is the independent variable data other than than first column, which is the dependent variable. \n",
    "x=data.drop([row0[0]],axis=1).values\n",
    "\n",
    "#y is equal to the dependent data, column 0 \n",
    "y=data[row0[0]].values"
   ]
  },
  {
   "cell_type": "code",
   "execution_count": 13,
   "id": "9ce542f6",
   "metadata": {},
   "outputs": [],
   "source": [
    "\"\"\"\n",
    "trains the model using datasets, test_size set to a high value \n",
    "since data is limited; model trains using more input data\n",
    "\"\"\"\n",
    "\n",
    "x_train, x_test, y_train, y_test = train_test_split(x, y, test_size=0.75, random_state=0)"
   ]
  },
  {
   "cell_type": "code",
   "execution_count": 14,
   "id": "518e4d11",
   "metadata": {},
   "outputs": [
    {
     "data": {
      "text/plain": [
       "LinearRegression()"
      ]
     },
     "execution_count": 14,
     "metadata": {},
     "output_type": "execute_result"
    }
   ],
   "source": [
    "#create linear regression object\n",
    "\n",
    "ml = LinearRegression()\n",
    "\n",
    "#train the model using the training sets\n",
    "ml.fit(x_train, y_train)"
   ]
  },
  {
   "cell_type": "code",
   "execution_count": 15,
   "id": "2ce374b0",
   "metadata": {},
   "outputs": [],
   "source": [
    "#make predictions using the testing set\n",
    "\n",
    "y_pred = ml.predict(x_test)\n"
   ]
  },
  {
   "cell_type": "code",
   "execution_count": 16,
   "id": "ec59bb04",
   "metadata": {},
   "outputs": [
    {
     "data": {
      "text/plain": [
       "Text(0.5, 1.0, 'Actual vs. Predicted')"
      ]
     },
     "execution_count": 16,
     "metadata": {},
     "output_type": "execute_result"
    },
    {
     "data": {
      "image/png": "[encoded data removed]",
      "text/plain": [
       "<Figure size 1080x720 with 1 Axes>"
      ]
     },
     "metadata": {
      "needs_background": "light"
     },
     "output_type": "display_data"
    }
   ],
   "source": [
    "#plotting the data\n",
    "#TOMORROW DISCUSS WHETHER TO DELETE THIS SECTION OR NOT \n",
    "\n",
    "plt.figure(figsize=(15,10))\n",
    "plt.scatter(y_test,y_pred)\n",
    "plt.xlabel('Actual')\n",
    "plt.ylabel('Predicted')\n",
    "plt.title('Actual vs. Predicted')"
   ]
  },
  {
   "cell_type": "code",
   "execution_count": 17,
   "id": "ba6ab1cc",
   "metadata": {},
   "outputs": [
    {
     "data": {
      "text/html": [
       "<div>\n",
       "<style scoped>\n",
       "    .dataframe tbody tr th:only-of-type {\n",
       "        vertical-align: middle;\n",
       "    }\n",
       "\n",
       "    .dataframe tbody tr th {\n",
       "        vertical-align: top;\n",
       "    }\n",
       "\n",
       "    .dataframe thead th {\n",
       "        text-align: right;\n",
       "    }\n",
       "</style>\n",
       "<table border=\"1\" class=\"dataframe\">\n",
       "  <thead>\n",
       "    <tr style=\"text-align: right;\">\n",
       "      <th></th>\n",
       "      <th>Actual Value</th>\n",
       "      <th>Predicted Value</th>\n",
       "      <th>Difference</th>\n",
       "    </tr>\n",
       "  </thead>\n",
       "  <tbody>\n",
       "    <tr>\n",
       "      <th>0</th>\n",
       "      <td>15.4</td>\n",
       "      <td>13.382575</td>\n",
       "      <td>2.017425</td>\n",
       "    </tr>\n",
       "    <tr>\n",
       "      <th>1</th>\n",
       "      <td>17.4</td>\n",
       "      <td>17.239789</td>\n",
       "      <td>0.160211</td>\n",
       "    </tr>\n",
       "    <tr>\n",
       "      <th>2</th>\n",
       "      <td>16.0</td>\n",
       "      <td>11.319483</td>\n",
       "      <td>4.680517</td>\n",
       "    </tr>\n",
       "    <tr>\n",
       "      <th>3</th>\n",
       "      <td>12.3</td>\n",
       "      <td>4.025632</td>\n",
       "      <td>8.274368</td>\n",
       "    </tr>\n",
       "    <tr>\n",
       "      <th>4</th>\n",
       "      <td>14.4</td>\n",
       "      <td>15.204668</td>\n",
       "      <td>-0.804668</td>\n",
       "    </tr>\n",
       "    <tr>\n",
       "      <th>5</th>\n",
       "      <td>14.3</td>\n",
       "      <td>8.851374</td>\n",
       "      <td>5.448626</td>\n",
       "    </tr>\n",
       "    <tr>\n",
       "      <th>6</th>\n",
       "      <td>15.4</td>\n",
       "      <td>12.614300</td>\n",
       "      <td>2.785700</td>\n",
       "    </tr>\n",
       "    <tr>\n",
       "      <th>7</th>\n",
       "      <td>15.1</td>\n",
       "      <td>15.314274</td>\n",
       "      <td>-0.214274</td>\n",
       "    </tr>\n",
       "    <tr>\n",
       "      <th>8</th>\n",
       "      <td>16.4</td>\n",
       "      <td>16.115599</td>\n",
       "      <td>0.284401</td>\n",
       "    </tr>\n",
       "    <tr>\n",
       "      <th>9</th>\n",
       "      <td>15.7</td>\n",
       "      <td>14.238982</td>\n",
       "      <td>1.461018</td>\n",
       "    </tr>\n",
       "    <tr>\n",
       "      <th>10</th>\n",
       "      <td>15.6</td>\n",
       "      <td>13.534291</td>\n",
       "      <td>2.065709</td>\n",
       "    </tr>\n",
       "    <tr>\n",
       "      <th>11</th>\n",
       "      <td>15.8</td>\n",
       "      <td>14.428214</td>\n",
       "      <td>1.371786</td>\n",
       "    </tr>\n",
       "    <tr>\n",
       "      <th>12</th>\n",
       "      <td>15.1</td>\n",
       "      <td>12.215289</td>\n",
       "      <td>2.884711</td>\n",
       "    </tr>\n",
       "    <tr>\n",
       "      <th>13</th>\n",
       "      <td>12.8</td>\n",
       "      <td>-7.085471</td>\n",
       "      <td>19.885471</td>\n",
       "    </tr>\n",
       "  </tbody>\n",
       "</table>\n",
       "</div>"
      ],
      "text/plain": [
       "    Actual Value  Predicted Value  Difference\n",
       "0           15.4        13.382575    2.017425\n",
       "1           17.4        17.239789    0.160211\n",
       "2           16.0        11.319483    4.680517\n",
       "3           12.3         4.025632    8.274368\n",
       "4           14.4        15.204668   -0.804668\n",
       "5           14.3         8.851374    5.448626\n",
       "6           15.4        12.614300    2.785700\n",
       "7           15.1        15.314274   -0.214274\n",
       "8           16.4        16.115599    0.284401\n",
       "9           15.7        14.238982    1.461018\n",
       "10          15.6        13.534291    2.065709\n",
       "11          15.8        14.428214    1.371786\n",
       "12          15.1        12.215289    2.884711\n",
       "13          12.8        -7.085471   19.885471"
      ]
     },
     "execution_count": 17,
     "metadata": {},
     "output_type": "execute_result"
    }
   ],
   "source": [
    "\"\"\"\n",
    "Compares the predicted value from the machine learning model to the actual values,\n",
    "ensuring that the sum of the residuals is minimal and outliers are made known. \n",
    "\"\"\"\n",
    "\n",
    "pred_y_df=pd.DataFrame({'Actual Value':y_test, 'Predicted Value':y_pred, 'Difference':y_test-y_pred})\n",
    "pred_y_df[0:-1]"
   ]
  },
  {
   "cell_type": "code",
   "execution_count": 18,
   "id": "63773ee3",
   "metadata": {},
   "outputs": [
    {
     "name": "stdout",
     "output_type": "stream",
     "text": [
      "                            OLS Regression Results                            \n",
      "==============================================================================\n",
      "Dep. Variable:                      y   R-squared:                       0.782\n",
      "Model:                            OLS   Adj. R-squared:                  0.738\n",
      "Method:                 Least Squares   F-statistic:                     17.90\n",
      "Date:                Sat, 19 Nov 2022   Prob (F-statistic):           3.22e-05\n",
      "Time:                        21:14:04   Log-Likelihood:                -17.602\n",
      "No. Observations:                  19   AIC:                             43.20\n",
      "Df Residuals:                      15   BIC:                             46.98\n",
      "Df Model:                           3                                         \n",
      "Covariance Type:            nonrobust                                         \n",
      "==============================================================================\n",
      "                 coef    std err          t      P>|t|      [0.025      0.975]\n",
      "------------------------------------------------------------------------------\n",
      "const         19.0837      0.951     20.059      0.000      17.056      21.111\n",
      "x1            -0.2348      0.097     -2.408      0.029      -0.443      -0.027\n",
      "x2            -0.0508      0.026     -1.956      0.069      -0.106       0.005\n",
      "x3            -0.0118      0.028     -0.417      0.682      -0.072       0.048\n",
      "==============================================================================\n",
      "Omnibus:                        1.765   Durbin-Watson:                   1.480\n",
      "Prob(Omnibus):                  0.414   Jarque-Bera (JB):                0.957\n",
      "Skew:                           0.012   Prob(JB):                        0.620\n",
      "Kurtosis:                       1.901   Cond. No.                         284.\n",
      "==============================================================================\n",
      "\n",
      "Notes:\n",
      "[1] Standard Errors assume that the covariance matrix of the errors is correctly specified.\n"
     ]
    },
    {
     "name": "stderr",
     "output_type": "stream",
     "text": [
      "C:\\Users\\karad\\anaconda3\\lib\\site-packages\\scipy\\stats\\stats.py:1541: UserWarning: kurtosistest only valid for n>=20 ... continuing anyway, n=19\n",
      "  warnings.warn(\"kurtosistest only valid for n>=20 ... continuing \"\n"
     ]
    }
   ],
   "source": [
    "\"\"\"\n",
    "using the statsmodels api, we can get important summary statistics such as \n",
    "the coefficients for our equations and our p-values from the analysis\n",
    "\"\"\"\n",
    "\n",
    "X2 = sm.add_constant(x)\n",
    "est = sm.OLS(y, X2)\n",
    "est2 = est.fit()\n",
    "print(est2.summary())"
   ]
  },
  {
   "cell_type": "code",
   "execution_count": 19,
   "id": "ce07f09d",
   "metadata": {},
   "outputs": [
    {
     "data": {
      "text/plain": [
       "['Electricity Access (% of population)']"
      ]
     },
     "execution_count": 19,
     "metadata": {},
     "output_type": "execute_result"
    }
   ],
   "source": [
    "\"\"\"\n",
    "logic developed to determine p values that are < 0.05, which indicate a statiscally significant \n",
    "relationship between our dependent variable and any of our independent variables\n",
    "\"\"\"\n",
    "\n",
    "significant_p = []\n",
    "for i in range(1, len(row0)):\n",
    "    if est2.pvalues[i] < 0.05:\n",
    "         significant_p.append(row0[i])\n",
    "            \n",
    "significant_p"
   ]
  },
  {
   "cell_type": "code",
   "execution_count": 127,
   "id": "893cb7e8",
   "metadata": {},
   "outputs": [
    {
     "data": {
      "text/plain": [
       "['INTERNATIONAL RESCUE COMMITTEE, U.K',\n",
       " 'WORLD VISION UK',\n",
       " 'A C O R D',\n",
       " 'International Welfare Allience(IWARELIEF)',\n",
       " 'Central African Organization']"
      ]
     },
     "execution_count": 127,
     "metadata": {},
     "output_type": "execute_result"
    }
   ],
   "source": [
    "\"\"\"\n",
    "Finding NGO's which can help solve our found problem\n",
    "\"\"\"\n",
    "\n",
    "#importing NGO's dictionary files\n",
    "import sys\n",
    "\n",
    "sys.path.insert(0, r'C:\\Users\\karad\\Desktop\\htc\\ctc-hackathon-2022')\n",
    "import NGOS\n",
    "\n",
    "#solution_NGO = NGO's that can provide a solution to our given correlation\n",
    "solution_NGO = []\n",
    "\n",
    "NGO_names = list(NGOS.CAR_NGO.keys())\n",
    "\n",
    "NGO_keywords = list(NGOS.CAR_NGO.values())\n",
    "\n",
    "# creates sols list that includes the statistic with significant p value. Then compares every word in the statstic to\n",
    "# keywords in dictionary file and if they match, puts corresponding NGO name into list.\n",
    "sols = []\n",
    "for x in range(len(significant_p)):\n",
    "    sols.append(significant_p[x].split())\n",
    "\n",
    "for i in range(len(NGO_names)):\n",
    "    for j in range(len(NGO_keywords[i])):\n",
    "        k = j\n",
    "        l = 0\n",
    "        while(l < len(significant_p)):\n",
    "            if (sols[l][k].lower() in NGO_keywords[i]):\n",
    "                solution_NGO.append(NGO_names[i])\n",
    "            l += 1\n",
    "\n",
    "solution_NGO"
   ]
  }
 ],
 "metadata": {
  "kernelspec": {
   "display_name": "Python 3 (ipykernel)",
   "language": "python",
   "name": "python3"
  },
  "language_info": {
   "codemirror_mode": {
    "name": "ipython",
    "version": 3
   },
   "file_extension": ".py",
   "mimetype": "text/x-python",
   "name": "python",
   "nbconvert_exporter": "python",
   "pygments_lexer": "ipython3",
   "version": "3.9.12"
  }
 },
 "nbformat": 4,
 "nbformat_minor": 5
}
