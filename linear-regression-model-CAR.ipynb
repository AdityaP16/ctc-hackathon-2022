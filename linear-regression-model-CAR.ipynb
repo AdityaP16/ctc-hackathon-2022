{
 "cells": [
  {
   "cell_type": "code",
   "execution_count": 356,
   "id": "6d7c7395",
   "metadata": {},
   "outputs": [],
   "source": [
    "import pandas as pd\n",
    "import numpy as np"
   ]
  },
  {
   "cell_type": "code",
   "execution_count": 357,
   "id": "21af3354",
   "metadata": {},
   "outputs": [],
   "source": [
    "data=pd.read_excel('/Users/aditya/ctc-hackathon-2022/CAR_Data.xlsx')"
   ]
  },
  {
   "cell_type": "code",
   "execution_count": 358,
   "id": "69782ae0",
   "metadata": {},
   "outputs": [
    {
     "data": {
      "text/html": [
       "<div>\n",
       "<style scoped>\n",
       "    .dataframe tbody tr th:only-of-type {\n",
       "        vertical-align: middle;\n",
       "    }\n",
       "\n",
       "    .dataframe tbody tr th {\n",
       "        vertical-align: top;\n",
       "    }\n",
       "\n",
       "    .dataframe thead th {\n",
       "        text-align: right;\n",
       "    }\n",
       "</style>\n",
       "<table border=\"1\" class=\"dataframe\">\n",
       "  <thead>\n",
       "    <tr style=\"text-align: right;\">\n",
       "      <th></th>\n",
       "      <th>Suicide rate (per 100 000)</th>\n",
       "      <th>Electricity Access (% of population)</th>\n",
       "      <th>Healthcare Spending Per Capita ($)</th>\n",
       "      <th>Hunger Statistics (% of population)</th>\n",
       "    </tr>\n",
       "  </thead>\n",
       "  <tbody>\n",
       "    <tr>\n",
       "      <th>0</th>\n",
       "      <td>17.7</td>\n",
       "      <td>5.74</td>\n",
       "      <td>10</td>\n",
       "      <td>39.2</td>\n",
       "    </tr>\n",
       "    <tr>\n",
       "      <th>1</th>\n",
       "      <td>17.4</td>\n",
       "      <td>6.18</td>\n",
       "      <td>11</td>\n",
       "      <td>40.1</td>\n",
       "    </tr>\n",
       "    <tr>\n",
       "      <th>2</th>\n",
       "      <td>16.4</td>\n",
       "      <td>6.61</td>\n",
       "      <td>13</td>\n",
       "      <td>40.6</td>\n",
       "    </tr>\n",
       "    <tr>\n",
       "      <th>3</th>\n",
       "      <td>15.7</td>\n",
       "      <td>7.05</td>\n",
       "      <td>14</td>\n",
       "      <td>40.5</td>\n",
       "    </tr>\n",
       "    <tr>\n",
       "      <th>4</th>\n",
       "      <td>15.1</td>\n",
       "      <td>7.48</td>\n",
       "      <td>15</td>\n",
       "      <td>39.6</td>\n",
       "    </tr>\n",
       "  </tbody>\n",
       "</table>\n",
       "</div>"
      ],
      "text/plain": [
       "   Suicide rate (per 100 000)  Electricity Access (% of population)  \\\n",
       "0                        17.7                                  5.74   \n",
       "1                        17.4                                  6.18   \n",
       "2                        16.4                                  6.61   \n",
       "3                        15.7                                  7.05   \n",
       "4                        15.1                                  7.48   \n",
       "\n",
       "   Healthcare Spending Per Capita ($)  Hunger Statistics (% of population)  \n",
       "0                                  10                                 39.2  \n",
       "1                                  11                                 40.1  \n",
       "2                                  13                                 40.6  \n",
       "3                                  14                                 40.5  \n",
       "4                                  15                                 39.6  "
      ]
     },
     "execution_count": 358,
     "metadata": {},
     "output_type": "execute_result"
    }
   ],
   "source": [
    "data.head()"
   ]
  },
  {
   "cell_type": "code",
   "execution_count": 385,
   "id": "dbab6fe2",
   "metadata": {},
   "outputs": [
    {
     "data": {
      "text/plain": [
       "['Suicide rate (per 100 000)',\n",
       " 'Electricity Access (% of population)',\n",
       " 'Healthcare Spending Per Capita ($)',\n",
       " 'Hunger Statistics (% of population)']"
      ]
     },
     "execution_count": 385,
     "metadata": {},
     "output_type": "execute_result"
    }
   ],
   "source": [
    "col0 = list(data)\n",
    "\n",
    "x=data.drop([col0[0]],axis=1).values\n",
    "y=data[col0[0]].values"
   ]
  },
  {
   "cell_type": "code",
   "execution_count": 373,
   "id": "1befe29b",
   "metadata": {},
   "outputs": [
    {
     "name": "stdout",
     "output_type": "stream",
     "text": [
      "[[ 5.74 10.   39.2 ]\n",
      " [ 6.18 11.   40.1 ]\n",
      " [ 6.61 13.   40.6 ]\n",
      " [ 7.05 14.   40.5 ]\n",
      " [ 7.48 15.   39.6 ]\n",
      " [ 7.81 17.   37.7 ]\n",
      " [ 8.35 20.   35.7 ]\n",
      " [ 7.48 20.   33.3 ]\n",
      " [ 9.25 23.   31.  ]\n",
      " [ 9.8  19.   29.1 ]\n",
      " [10.25 21.   28.1 ]\n",
      " [10.87 22.   32.8 ]\n",
      " [11.47 19.   40.3 ]\n",
      " [12.06 21.   48.3 ]\n",
      " [12.73 19.   49.9 ]\n",
      " [13.53 22.   48.6 ]\n",
      " [14.3  30.   46.1 ]\n",
      " [14.84 54.   46.7 ]\n",
      " [14.3  37.   48.2 ]]\n"
     ]
    }
   ],
   "source": [
    "print(x)"
   ]
  },
  {
   "cell_type": "code",
   "execution_count": 374,
   "id": "8cab297a",
   "metadata": {},
   "outputs": [
    {
     "name": "stdout",
     "output_type": "stream",
     "text": [
      "[17.7 17.4 16.4 15.7 15.1 15.7 15.4 15.1 16.  15.8 15.4 14.7 14.9 15.6\n",
      " 14.4 13.7 14.3 12.8 12.3]\n"
     ]
    }
   ],
   "source": [
    "print(y)"
   ]
  },
  {
   "cell_type": "code",
   "execution_count": 362,
   "id": "9ce542f6",
   "metadata": {},
   "outputs": [],
   "source": [
    "from sklearn.model_selection import train_test_split\n",
    "x_train,x_test,y_train,y_test=train_test_split(x,y,test_size=0.75,random_state=0)"
   ]
  },
  {
   "cell_type": "code",
   "execution_count": 363,
   "id": "518e4d11",
   "metadata": {},
   "outputs": [
    {
     "data": {
      "text/plain": [
       "LinearRegression()"
      ]
     },
     "execution_count": 363,
     "metadata": {},
     "output_type": "execute_result"
    }
   ],
   "source": [
    "from sklearn.linear_model import LinearRegression\n",
    "ml=LinearRegression()\n",
    "ml.fit(x_train,y_train)"
   ]
  },
  {
   "cell_type": "code",
   "execution_count": 364,
   "id": "2ce374b0",
   "metadata": {},
   "outputs": [
    {
     "name": "stdout",
     "output_type": "stream",
     "text": [
      "[13.3825747  17.23978947 11.31948251  4.02563176 15.20466815  8.85137427\n",
      " 12.61429978 15.31427405 16.11559854 14.2389818  13.53429128 14.42821362\n",
      " 12.21528867 -7.0854709  12.85754477]\n"
     ]
    }
   ],
   "source": [
    "y_pred=ml.predict(x_test)\n",
    "print(y_pred)"
   ]
  },
  {
   "cell_type": "code",
   "execution_count": 365,
   "id": "ec59bb04",
   "metadata": {},
   "outputs": [
    {
     "data": {
      "text/plain": [
       "Text(0.5, 1.0, 'Actual vs. Predicted')"
      ]
     },
     "execution_count": 365,
     "metadata": {},
     "output_type": "execute_result"
    },
    {
     "data": {
      "image/png": "[encoded data removed]",
      "text/plain": [
       "<Figure size 1500x1000 with 1 Axes>"
      ]
     },
     "metadata": {},
     "output_type": "display_data"
    }
   ],
   "source": [
    "import matplotlib.pyplot as plt\n",
    "plt.figure(figsize=(15,10))\n",
    "plt.scatter(y_test,y_pred)\n",
    "plt.xlabel('Actual')\n",
    "plt.ylabel('Predicted')\n",
    "plt.title('Actual vs. Predicted')"
   ]
  },
  {
   "cell_type": "code",
   "execution_count": 366,
   "id": "ba6ab1cc",
   "metadata": {},
   "outputs": [
    {
     "data": {
      "text/html": [
       "<div>\n",
       "<style scoped>\n",
       "    .dataframe tbody tr th:only-of-type {\n",
       "        vertical-align: middle;\n",
       "    }\n",
       "\n",
       "    .dataframe tbody tr th {\n",
       "        vertical-align: top;\n",
       "    }\n",
       "\n",
       "    .dataframe thead th {\n",
       "        text-align: right;\n",
       "    }\n",
       "</style>\n",
       "<table border=\"1\" class=\"dataframe\">\n",
       "  <thead>\n",
       "    <tr style=\"text-align: right;\">\n",
       "      <th></th>\n",
       "      <th>Actual Value</th>\n",
       "      <th>Predicted Value</th>\n",
       "      <th>Difference</th>\n",
       "    </tr>\n",
       "  </thead>\n",
       "  <tbody>\n",
       "    <tr>\n",
       "      <th>0</th>\n",
       "      <td>15.4</td>\n",
       "      <td>13.382575</td>\n",
       "      <td>2.017425</td>\n",
       "    </tr>\n",
       "    <tr>\n",
       "      <th>1</th>\n",
       "      <td>17.4</td>\n",
       "      <td>17.239789</td>\n",
       "      <td>0.160211</td>\n",
       "    </tr>\n",
       "    <tr>\n",
       "      <th>2</th>\n",
       "      <td>16.0</td>\n",
       "      <td>11.319483</td>\n",
       "      <td>4.680517</td>\n",
       "    </tr>\n",
       "    <tr>\n",
       "      <th>3</th>\n",
       "      <td>12.3</td>\n",
       "      <td>4.025632</td>\n",
       "      <td>8.274368</td>\n",
       "    </tr>\n",
       "    <tr>\n",
       "      <th>4</th>\n",
       "      <td>14.4</td>\n",
       "      <td>15.204668</td>\n",
       "      <td>-0.804668</td>\n",
       "    </tr>\n",
       "    <tr>\n",
       "      <th>5</th>\n",
       "      <td>14.3</td>\n",
       "      <td>8.851374</td>\n",
       "      <td>5.448626</td>\n",
       "    </tr>\n",
       "    <tr>\n",
       "      <th>6</th>\n",
       "      <td>15.4</td>\n",
       "      <td>12.614300</td>\n",
       "      <td>2.785700</td>\n",
       "    </tr>\n",
       "    <tr>\n",
       "      <th>7</th>\n",
       "      <td>15.1</td>\n",
       "      <td>15.314274</td>\n",
       "      <td>-0.214274</td>\n",
       "    </tr>\n",
       "    <tr>\n",
       "      <th>8</th>\n",
       "      <td>16.4</td>\n",
       "      <td>16.115599</td>\n",
       "      <td>0.284401</td>\n",
       "    </tr>\n",
       "    <tr>\n",
       "      <th>9</th>\n",
       "      <td>15.7</td>\n",
       "      <td>14.238982</td>\n",
       "      <td>1.461018</td>\n",
       "    </tr>\n",
       "    <tr>\n",
       "      <th>10</th>\n",
       "      <td>15.6</td>\n",
       "      <td>13.534291</td>\n",
       "      <td>2.065709</td>\n",
       "    </tr>\n",
       "    <tr>\n",
       "      <th>11</th>\n",
       "      <td>15.8</td>\n",
       "      <td>14.428214</td>\n",
       "      <td>1.371786</td>\n",
       "    </tr>\n",
       "    <tr>\n",
       "      <th>12</th>\n",
       "      <td>15.1</td>\n",
       "      <td>12.215289</td>\n",
       "      <td>2.884711</td>\n",
       "    </tr>\n",
       "    <tr>\n",
       "      <th>13</th>\n",
       "      <td>12.8</td>\n",
       "      <td>-7.085471</td>\n",
       "      <td>19.885471</td>\n",
       "    </tr>\n",
       "  </tbody>\n",
       "</table>\n",
       "</div>"
      ],
      "text/plain": [
       "    Actual Value  Predicted Value  Difference\n",
       "0           15.4        13.382575    2.017425\n",
       "1           17.4        17.239789    0.160211\n",
       "2           16.0        11.319483    4.680517\n",
       "3           12.3         4.025632    8.274368\n",
       "4           14.4        15.204668   -0.804668\n",
       "5           14.3         8.851374    5.448626\n",
       "6           15.4        12.614300    2.785700\n",
       "7           15.1        15.314274   -0.214274\n",
       "8           16.4        16.115599    0.284401\n",
       "9           15.7        14.238982    1.461018\n",
       "10          15.6        13.534291    2.065709\n",
       "11          15.8        14.428214    1.371786\n",
       "12          15.1        12.215289    2.884711\n",
       "13          12.8        -7.085471   19.885471"
      ]
     },
     "execution_count": 366,
     "metadata": {},
     "output_type": "execute_result"
    }
   ],
   "source": [
    "pred_y_df=pd.DataFrame({'Actual Value':y_test, 'Predicted Value':y_pred, 'Difference':y_test-y_pred})\n",
    "pred_y_df[0:-1]"
   ]
  },
  {
   "cell_type": "markdown",
   "id": "cedcb659",
   "metadata": {},
   "source": [
    "P value, Correlation etc.."
   ]
  },
  {
   "cell_type": "code",
   "execution_count": 371,
   "id": "63773ee3",
   "metadata": {},
   "outputs": [
    {
     "name": "stdout",
     "output_type": "stream",
     "text": [
      "                            OLS Regression Results                            \n",
      "==============================================================================\n",
      "Dep. Variable:                      y   R-squared:                       0.782\n",
      "Model:                            OLS   Adj. R-squared:                  0.738\n",
      "Method:                 Least Squares   F-statistic:                     17.90\n",
      "Date:                Sat, 19 Nov 2022   Prob (F-statistic):           3.22e-05\n",
      "Time:                        17:45:26   Log-Likelihood:                -17.602\n",
      "No. Observations:                  19   AIC:                             43.20\n",
      "Df Residuals:                      15   BIC:                             46.98\n",
      "Df Model:                           3                                         \n",
      "Covariance Type:            nonrobust                                         \n",
      "==============================================================================\n",
      "                 coef    std err          t      P>|t|      [0.025      0.975]\n",
      "------------------------------------------------------------------------------\n",
      "const         19.0837      0.951     20.059      0.000      17.056      21.111\n",
      "x1            -0.2348      0.097     -2.408      0.029      -0.443      -0.027\n",
      "x2            -0.0508      0.026     -1.956      0.069      -0.106       0.005\n",
      "x3            -0.0118      0.028     -0.417      0.682      -0.072       0.048\n",
      "==============================================================================\n",
      "Omnibus:                        1.765   Durbin-Watson:                   1.480\n",
      "Prob(Omnibus):                  0.414   Jarque-Bera (JB):                0.957\n",
      "Skew:                           0.012   Prob(JB):                        0.620\n",
      "Kurtosis:                       1.901   Cond. No.                         284.\n",
      "==============================================================================\n",
      "\n",
      "Notes:\n",
      "[1] Standard Errors assume that the covariance matrix of the errors is correctly specified.\n"
     ]
    },
    {
     "name": "stderr",
     "output_type": "stream",
     "text": [
      "/opt/anaconda3/lib/python3.9/site-packages/scipy/stats/_stats_py.py:1769: UserWarning: kurtosistest only valid for n>=20 ... continuing anyway, n=19\n",
      "  warnings.warn(\"kurtosistest only valid for n>=20 ... continuing \"\n"
     ]
    }
   ],
   "source": [
    "import pandas as pd , numpy as np\n",
    "from sklearn import datasets, linear_model\n",
    "from sklearn.linear_model import LinearRegression\n",
    "import statsmodels.api as sm\n",
    "\n",
    "\n",
    "X2 = sm.add_constant(x)\n",
    "est = sm.OLS(y, X2)\n",
    "est2 = est.fit()\n",
    "print(est2.summary())"
   ]
  },
  {
   "cell_type": "code",
   "execution_count": 387,
   "id": "ce07f09d",
   "metadata": {},
   "outputs": [
    {
     "data": {
      "text/plain": [
       "['Electricity Access (% of population)']"
      ]
     },
     "execution_count": 387,
     "metadata": {},
     "output_type": "execute_result"
    }
   ],
   "source": [
    "good_p = []\n",
    "for i in range(1, len(col0)):\n",
    "    if est2.pvalues[i] < 0.05:\n",
    "         good_p.append(col0[i])\n",
    "            \n",
    "good_p"
   ]
  },
  {
   "cell_type": "code",
   "execution_count": null,
   "id": "53746038",
   "metadata": {},
   "outputs": [],
   "source": []
  }
 ],
 "metadata": {
  "kernelspec": {
   "display_name": "Python 3 (ipykernel)",
   "language": "python",
   "name": "python3"
  },
  "language_info": {
   "codemirror_mode": {
    "name": "ipython",
    "version": 3
   },
   "file_extension": ".py",
   "mimetype": "text/x-python",
   "name": "python",
   "nbconvert_exporter": "python",
   "pygments_lexer": "ipython3",
   "version": "3.9.13"
  }
 },
 "nbformat": 4,
 "nbformat_minor": 5
}
